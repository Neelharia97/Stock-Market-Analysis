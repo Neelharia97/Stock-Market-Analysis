{
 "cells": [
  {
   "cell_type": "code",
   "execution_count": null,
   "metadata": {},
   "outputs": [],
   "source": []
  },
  {
   "cell_type": "code",
   "execution_count": 1,
   "metadata": {},
   "outputs": [],
   "source": [
    "import pandas as pd\n",
    "import matplotlib.pyplot as plt\n",
    "import numpy as np\n",
    "import pandas_datareader as pdr\n",
    "from pandas_datareader._utils import RemoteDataError\n",
    "from datetime import datetime\n"
   ]
  },
  {
   "cell_type": "code",
   "execution_count": 2,
   "metadata": {},
   "outputs": [],
   "source": [
    "START_DATE ='2019-9-1' #input(str())\n",
    "END_DATE = str(datetime.now().strftime('%Y-%m-%d'))"
   ]
  },
  {
   "cell_type": "code",
   "execution_count": 3,
   "metadata": {},
   "outputs": [
    {
     "name": "stdout",
     "output_type": "stream",
     "text": [
      "AMZN\n"
     ]
    }
   ],
   "source": [
    "m = 1 # int(input(\"Enter the number of Stocks: \"))\n",
    "USA_STOCKS = []\n",
    "for i in range(m):\n",
    "    a = input(str())\n",
    "    USA_STOCKS.append(a)\n"
   ]
  },
  {
   "cell_type": "code",
   "execution_count": 19,
   "metadata": {},
   "outputs": [],
   "source": [
    "def clean_data(stock_data, cols):\n",
    "    weekdays = pd.date_range(start=START_DATE, end= END_DATE)\n",
    "    clean_data = stock_data[cols].reindex(weekdays)\n",
    "    print(clean_data.fillna(method = 'ffill').head(5))"
   ]
  },
  {
   "cell_type": "code",
   "execution_count": 20,
   "metadata": {},
   "outputs": [],
   "source": [
    "def get_data(ticker):\n",
    "    for i in ticker:\n",
    "        try:\n",
    "            stock_data = pdr.DataReader(i,'yahoo',START_DATE,END_DATE)\n",
    "            print(stock_data)\n",
    "            adj_close = clean_data(stock_data, 'High')\n",
    "\n",
    "        except RemoteDataError:\n",
    "\n",
    "            print(\"No Data Found {t}\".format(t = i))"
   ]
  },
  {
   "cell_type": "code",
   "execution_count": 22,
   "metadata": {},
   "outputs": [],
   "source": [
    "#get_data(USA_STOCKS)"
   ]
  },
  {
   "cell_type": "code",
   "execution_count": null,
   "metadata": {},
   "outputs": [],
   "source": [
    "def get_stats(0)"
   ]
  },
  {
   "cell_type": "code",
   "execution_count": null,
   "metadata": {},
   "outputs": [],
   "source": []
  }
 ],
 "metadata": {
  "kernelspec": {
   "display_name": "Python 3",
   "language": "python",
   "name": "python3"
  },
  "language_info": {
   "codemirror_mode": {
    "name": "ipython",
    "version": 3
   },
   "file_extension": ".py",
   "mimetype": "text/x-python",
   "name": "python",
   "nbconvert_exporter": "python",
   "pygments_lexer": "ipython3",
   "version": "3.7.1"
  }
 },
 "nbformat": 4,
 "nbformat_minor": 4
}
